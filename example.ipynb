{
 "cells": [
  {
   "cell_type": "code",
   "execution_count": 6,
   "metadata": {},
   "outputs": [],
   "source": [
    "import numpy as np\n",
    "\n",
    "from python.ccHBDF import cc_hbgf"
   ]
  },
  {
   "cell_type": "markdown",
   "metadata": {},
   "source": [
    "### Define the Clustering Matrix\n",
    "\n",
    "- Input Matrix should be of shape obs x solutions\n",
    "- Maximum Clusterings Solutions permitted is 255 to abide by np.uint16 datatype"
   ]
  },
  {
   "cell_type": "code",
   "execution_count": 7,
   "metadata": {},
   "outputs": [],
   "source": [
    "np.random.seed(0)\n",
    "\n",
    "n_clusters, n_solutions, n_obs = 200, 100, 10_000\n",
    "clustering_matrix = np.random.randint(0, n_clusters, size=(n_obs, n_solutions), dtype=np.uint16)"
   ]
  },
  {
   "cell_type": "markdown",
   "metadata": {},
   "source": [
    "### Run cc_hbdf()"
   ]
  },
  {
   "cell_type": "code",
   "execution_count": 8,
   "metadata": {},
   "outputs": [
    {
     "name": "stdout",
     "output_type": "stream",
     "text": [
      "[15:13:08] - Expected Clusters: 200\n",
      "[15:13:09] - Computed A (10000, 20000)\n",
      "[15:13:17] - Computed L (10000, 20000)\n",
      "[15:13:23] - Computed SVDs\n",
      "[15:13:23] - Normalized U and V\n",
      "[15:13:25] - KMeans Model Fitted\n",
      "[15:13:25] - Consensus Labels Predicted\n"
     ]
    }
   ],
   "source": [
    "consensus_labels = cc_hbgf(clustering_matrix, method='spec', verbose=True)\n",
    "consensus_labels"
   ]
  },
  {
   "cell_type": "code",
   "execution_count": null,
   "metadata": {},
   "outputs": [],
   "source": [
    "consensus_labels = cc_hbgf(clustering_matrix, method='spec', verbose=True)\n",
    "consensus_labels"
   ]
  }
 ],
 "metadata": {
  "kernelspec": {
   "display_name": "Python 3",
   "language": "python",
   "name": "python3"
  },
  "language_info": {
   "codemirror_mode": {
    "name": "ipython",
    "version": 3
   },
   "file_extension": ".py",
   "mimetype": "text/x-python",
   "name": "python",
   "nbconvert_exporter": "python",
   "pygments_lexer": "ipython3",
   "version": "3.11.8"
  }
 },
 "nbformat": 4,
 "nbformat_minor": 2
}
