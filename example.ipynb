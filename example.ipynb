{
 "cells": [
  {
   "cell_type": "code",
   "execution_count": 1,
   "metadata": {},
   "outputs": [],
   "source": [
    "import numpy as np\n",
    "\n",
    "from ccHBGF import ccHBGF"
   ]
  },
  {
   "cell_type": "markdown",
   "metadata": {},
   "source": [
    "### Define the Clustering Matrix\n",
    "\n",
    "- Input Matrix should be of shape obs x solutions\n",
    "- Maximum Clusterings Solutions permitted is 255 to abide by np.uint16 datatype"
   ]
  },
  {
   "cell_type": "code",
   "execution_count": 2,
   "metadata": {},
   "outputs": [],
   "source": [
    "np.random.seed(0)\n",
    "\n",
    "n_clusters, n_solutions, n_obs = 200, 100, 10_000\n",
    "clustering_matrix = np.random.randint(0, n_clusters, size=(n_obs, n_solutions), dtype=np.uint16)"
   ]
  },
  {
   "cell_type": "markdown",
   "metadata": {},
   "source": [
    "### Run cc_hbdf()"
   ]
  },
  {
   "cell_type": "code",
   "execution_count": 3,
   "metadata": {},
   "outputs": [
    {
     "name": "stderr",
     "output_type": "stream",
     "text": [
      "ccHBGF - 15:07:12: Detected 200 clusters.\n",
      "ccHBGF - 15:07:13: Graph adjacency matrix (A) constructed with shape (10000, 20000)\n",
      "ccHBGF - 15:07:21: Transformed A to Laplacian Matrix (L) of shape (10000, 20000)\n",
      "ccHBGF - 15:07:25: Decomposed L into Singular Values (SVs)\n",
      "ccHBGF - 15:07:25: Normalized SVs\n",
      "ccHBGF - 15:07:25: Initialized Centers\n",
      "ccHBGF - 15:07:26: KMeans model fitted to UVt\n",
      "ccHBGF - 15:07:26: Consensus Labels Found\n"
     ]
    },
    {
     "data": {
      "text/plain": [
       "array([ 71, 148,  94, ...,  84, 152,  65], dtype=int32)"
      ]
     },
     "execution_count": 3,
     "metadata": {},
     "output_type": "execute_result"
    }
   ],
   "source": [
    "consensus_labels = ccHBGF(clustering_matrix, verbose=True, random_state=0)\n",
    "consensus_labels"
   ]
  }
 ],
 "metadata": {
  "kernelspec": {
   "display_name": "Python 3",
   "language": "python",
   "name": "python3"
  },
  "language_info": {
   "codemirror_mode": {
    "name": "ipython",
    "version": 3
   },
   "file_extension": ".py",
   "mimetype": "text/x-python",
   "name": "python",
   "nbconvert_exporter": "python",
   "pygments_lexer": "ipython3",
   "version": "3.11.8"
  }
 },
 "nbformat": 4,
 "nbformat_minor": 2
}
